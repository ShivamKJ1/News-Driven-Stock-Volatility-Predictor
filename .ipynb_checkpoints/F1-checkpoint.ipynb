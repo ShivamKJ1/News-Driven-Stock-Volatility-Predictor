{
 "cells": [
  {
   "cell_type": "markdown",
   "id": "5b9f0b14-db10-49b6-a68f-b89b80ea35a9",
   "metadata": {},
   "source": [
    "# News-Driven Stock Volatility Predictor"
   ]
  },
  {
   "cell_type": "code",
   "execution_count": null,
   "id": "6ee56325-f56f-4f08-8cb2-ab6cc6eb1c68",
   "metadata": {},
   "outputs": [],
   "source": []
  }
 ],
 "metadata": {
  "kernelspec": {
   "display_name": "Python 3 (ipykernel)",
   "language": "python",
   "name": "python3"
  },
  "language_info": {
   "codemirror_mode": {
    "name": "ipython",
    "version": 3
   },
   "file_extension": ".py",
   "mimetype": "text/x-python",
   "name": "python",
   "nbconvert_exporter": "python",
   "pygments_lexer": "ipython3",
   "version": "3.11.0"
  }
 },
 "nbformat": 4,
 "nbformat_minor": 5
}
