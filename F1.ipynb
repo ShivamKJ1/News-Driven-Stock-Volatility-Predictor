{
 "cells": [
  {
   "cell_type": "markdown",
   "id": "5b9f0b14-db10-49b6-a68f-b89b80ea35a9",
   "metadata": {},
   "source": [
    "# News-Driven Stock Volatility Predictor"
   ]
  },
  {
   "cell_type": "code",
   "execution_count": 12,
   "id": "6ee56325-f56f-4f08-8cb2-ab6cc6eb1c68",
   "metadata": {},
   "outputs": [],
   "source": [
    "tickers = [\n",
    "    'TCS.NS', 'INFY.NS', 'RELIANCE.NS',\n",
    "    'HDFCBANK.NS', 'ICICIBANK.NS',\n",
    "    'SBIN.NS', 'TATAMOTORS.NS', 'WIPRO.NS'\n",
    "]\n"
   ]
  },
  {
   "cell_type": "code",
   "execution_count": 13,
   "id": "503ae6ed-060b-437e-9cd0-9d415f1421e5",
   "metadata": {
    "collapsed": true,
    "jupyter": {
     "outputs_hidden": true
    }
   },
   "outputs": [
    {
     "name": "stdout",
     "output_type": "stream",
     "text": [
      "lamini 3.4.6 has requirement numpy<2.0.0, but you have numpy 2.3.1.\n",
      "langchain-core 0.3.62 has requirement packaging<25,>=23.2, but you have packaging 25.0.\n",
      "nba-api 1.6.1 has requirement numpy<2.0.0,>=1.22.2, but you have numpy 2.3.1.\n",
      "streamlit 1.45.1 has requirement packaging<25,>=20, but you have packaging 25.0.\n"
     ]
    }
   ],
   "source": [
    "!pip check"
   ]
  },
  {
   "cell_type": "code",
   "execution_count": 14,
   "id": "aea0a913-6713-4182-82e1-bc172e586a9e",
   "metadata": {
    "collapsed": true,
    "jupyter": {
     "outputs_hidden": true
    },
    "scrolled": true
   },
   "outputs": [
    {
     "name": "stdout",
     "output_type": "stream",
     "text": [
      "Requirement already satisfied: alpha_vantage in c:\\users\\shiva\\appdata\\local\\programs\\python\\python311\\lib\\site-packages (3.0.0)\n",
      "Requirement already satisfied: pandas in c:\\users\\shiva\\appdata\\local\\programs\\python\\python311\\lib\\site-packages (2.3.0)\n",
      "Requirement already satisfied: numpy in c:\\users\\shiva\\appdata\\local\\programs\\python\\python311\\lib\\site-packages (2.3.1)\n",
      "Requirement already satisfied: aiohttp in c:\\users\\shiva\\appdata\\local\\programs\\python\\python311\\lib\\site-packages (from alpha_vantage) (3.12.2)\n",
      "Requirement already satisfied: requests in c:\\users\\shiva\\appdata\\local\\programs\\python\\python311\\lib\\site-packages (from alpha_vantage) (2.32.4)\n",
      "Requirement already satisfied: python-dateutil>=2.8.2 in c:\\users\\shiva\\appdata\\roaming\\python\\python311\\site-packages (from pandas) (2.9.0.post0)\n",
      "Requirement already satisfied: pytz>=2020.1 in c:\\users\\shiva\\appdata\\local\\programs\\python\\python311\\lib\\site-packages (from pandas) (2024.2)\n",
      "Requirement already satisfied: tzdata>=2022.7 in c:\\users\\shiva\\appdata\\local\\programs\\python\\python311\\lib\\site-packages (from pandas) (2024.2)\n",
      "Requirement already satisfied: six>=1.5 in c:\\users\\shiva\\appdata\\roaming\\python\\python311\\site-packages (from python-dateutil>=2.8.2->pandas) (1.17.0)\n",
      "Requirement already satisfied: aiohappyeyeballs>=2.5.0 in c:\\users\\shiva\\appdata\\local\\programs\\python\\python311\\lib\\site-packages (from aiohttp->alpha_vantage) (2.6.1)\n",
      "Requirement already satisfied: aiosignal>=1.1.2 in c:\\users\\shiva\\appdata\\local\\programs\\python\\python311\\lib\\site-packages (from aiohttp->alpha_vantage) (1.3.2)\n",
      "Requirement already satisfied: attrs>=17.3.0 in c:\\users\\shiva\\appdata\\local\\programs\\python\\python311\\lib\\site-packages (from aiohttp->alpha_vantage) (24.3.0)\n",
      "Requirement already satisfied: frozenlist>=1.1.1 in c:\\users\\shiva\\appdata\\local\\programs\\python\\python311\\lib\\site-packages (from aiohttp->alpha_vantage) (1.6.0)\n",
      "Requirement already satisfied: multidict<7.0,>=4.5 in c:\\users\\shiva\\appdata\\local\\programs\\python\\python311\\lib\\site-packages (from aiohttp->alpha_vantage) (6.4.4)\n",
      "Requirement already satisfied: propcache>=0.2.0 in c:\\users\\shiva\\appdata\\local\\programs\\python\\python311\\lib\\site-packages (from aiohttp->alpha_vantage) (0.3.1)\n",
      "Requirement already satisfied: yarl<2.0,>=1.17.0 in c:\\users\\shiva\\appdata\\local\\programs\\python\\python311\\lib\\site-packages (from aiohttp->alpha_vantage) (1.20.0)\n",
      "Requirement already satisfied: idna>=2.0 in c:\\users\\shiva\\appdata\\local\\programs\\python\\python311\\lib\\site-packages (from yarl<2.0,>=1.17.0->aiohttp->alpha_vantage) (3.10)\n",
      "Requirement already satisfied: charset_normalizer<4,>=2 in c:\\users\\shiva\\appdata\\local\\programs\\python\\python311\\lib\\site-packages (from requests->alpha_vantage) (3.4.1)\n",
      "Requirement already satisfied: urllib3<3,>=1.21.1 in c:\\users\\shiva\\appdata\\local\\programs\\python\\python311\\lib\\site-packages (from requests->alpha_vantage) (2.3.0)\n",
      "Requirement already satisfied: certifi>=2017.4.17 in c:\\users\\shiva\\appdata\\local\\programs\\python\\python311\\lib\\site-packages (from requests->alpha_vantage) (2024.12.14)\n"
     ]
    }
   ],
   "source": [
    "!pip install alpha_vantage pandas numpy\n"
   ]
  },
  {
   "cell_type": "code",
   "execution_count": 17,
   "id": "55fde177-680b-4552-b754-aa1c071712f0",
   "metadata": {},
   "outputs": [
    {
     "name": "stdout",
     "output_type": "stream",
     "text": [
      "⏬ TCS.NS: Attempt 1/4\n",
      "⏬ INFY.NS: Attempt 1/4\n",
      "⏬ RELIANCE.NS: Attempt 1/4\n",
      "⏬ HDFCBANK.NS: Attempt 1/4\n",
      "⏬ ICICIBANK.NS: Attempt 1/4\n",
      "⏬ SBIN.NS: Attempt 1/4\n",
      "⏬ TATAMOTORS.NS: Attempt 1/4\n",
      "⏬ WIPRO.NS: Attempt 1/4\n",
      "✅ Saved 2928 rows to nse_labeled_prices.csv\n"
     ]
    }
   ],
   "source": [
    "import yfinance as yf\n",
    "import pandas as pd\n",
    "import numpy as np\n",
    "import time, random, requests\n",
    "from datetime import datetime\n",
    "\n",
    "# --- 1. NSE Tickers and Date Range ---\n",
    "tickers = [\n",
    "    \"TCS.NS\", \"INFY.NS\", \"RELIANCE.NS\", \"HDFCBANK.NS\",\n",
    "    \"ICICIBANK.NS\", \"SBIN.NS\", \"TATAMOTORS.NS\", \"WIPRO.NS\"\n",
    "]\n",
    "\n",
    "start_date = \"2023-01-01\"\n",
    "end_date = \"2024-7-3\"\n",
    "CALL_PAUSE_SEC = 15\n",
    "MAX_RETRIES = 4\n",
    "frames = []\n",
    "\n",
    "# --- 2. Robust Fetch Function with Retry ---\n",
    "def fetch_ticker(ticker: str) -> pd.DataFrame | None:\n",
    "    for attempt in range(1, MAX_RETRIES + 1):\n",
    "        try:\n",
    "            print(f\"⏬ {ticker}: Attempt {attempt}/{MAX_RETRIES}\")\n",
    "            df = yf.Ticker(ticker).history(\n",
    "                start=start_date,\n",
    "                end=end_date,\n",
    "                interval=\"1d\",\n",
    "                auto_adjust=False,\n",
    "                actions=False\n",
    "            )\n",
    "            if df.empty:\n",
    "                raise ValueError(\"Empty DataFrame\")\n",
    "            df = df[[\"Open\", \"High\", \"Low\", \"Close\", \"Volume\"]].reset_index()\n",
    "            df[\"Ticker\"] = ticker\n",
    "            return df\n",
    "        except (requests.exceptions.RequestException, ValueError) as e:\n",
    "            wait = (2 ** attempt) + random.uniform(0, 1)\n",
    "            print(f\"   ↳ Error: {e} | Sleeping {wait:.1f}s\")\n",
    "            time.sleep(wait)\n",
    "    print(f\"❌ {ticker}: All retries failed.\")\n",
    "    return None\n",
    "# --- 3. Loop Through Tickers with Delay ---\n",
    "for idx, tk in enumerate(tickers, 1):\n",
    "    df = fetch_ticker(tk)\n",
    "    if df is not None:\n",
    "        frames.append(df)\n",
    "    if idx < len(tickers):\n",
    "        time.sleep(CALL_PAUSE_SEC)\n",
    "\n",
    "# --- 4. Combine, Label & Save ---\n",
    "if not frames:\n",
    "    raise RuntimeError(\"❌ All downloads failed.\")\n",
    "\n",
    "prices = pd.concat(frames, ignore_index=True).sort_values([\"Ticker\", \"Date\"])\n",
    "\n",
    "# Add next-day direction label\n",
    "prices[\"Next_Close\"] = prices.groupby(\"Ticker\")[\"Close\"].shift(-1)\n",
    "prices[\"Target\"] = np.where(prices[\"Next_Close\"] > prices[\"Close\"], 1, 0)\n",
    "prices.dropna(subset=[\"Next_Close\"], inplace=True)\n",
    "prices.reset_index(drop=True, inplace=True)\n",
    "\n",
    "# Save CSV\n",
    "prices.to_csv(\"nse_labeled_prices.csv\", index=False)\n",
    "print(f\"✅ Saved {len(prices)} rows to nse_labeled_prices.csv\")\n"
   ]
  },
  {
   "cell_type": "code",
   "execution_count": null,
   "id": "2ec5852d-64f7-4f60-bc21-e9ee848198a5",
   "metadata": {},
   "outputs": [],
   "source": []
  }
 ],
 "metadata": {
  "kernelspec": {
   "display_name": "Python 3 (ipykernel)",
   "language": "python",
   "name": "python3"
  },
  "language_info": {
   "codemirror_mode": {
    "name": "ipython",
    "version": 3
   },
   "file_extension": ".py",
   "mimetype": "text/x-python",
   "name": "python",
   "nbconvert_exporter": "python",
   "pygments_lexer": "ipython3",
   "version": "3.11.0"
  }
 },
 "nbformat": 4,
 "nbformat_minor": 5
}
